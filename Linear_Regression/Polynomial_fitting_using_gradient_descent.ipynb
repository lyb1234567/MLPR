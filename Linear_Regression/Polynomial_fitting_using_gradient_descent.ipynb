{
 "cells": [
  {
   "cell_type": "markdown",
   "id": "f96fdcf3",
   "metadata": {},
   "source": [
    "## Polynomial\n",
    "In Machine Learning, the polynomial input matrix looks like this:\n",
    "$$\\phi=\\begin{bmatrix}1 & x^{(1)}&(x^{(1)})^{2}\\dots (x^{(1)})^{K-1}\\\\1 & x^{(2)}&(x^{(2)})^{2}\\dots (x^{(2)})^{K-1} \\\\ \\vdots \\\\1 & x^{(N)}&(x^{(N)})^{2}\\dots (x^{(N)})^{K-1}\\end{bmatrix}$$.\n",
    "\n",
    "Let's say we want to fit the input features into a polynomial function with highest order of three:\n",
    "1. We firsr create y and x\n"
   ]
  },
  {
   "cell_type": "code",
   "execution_count": 1,
   "id": "37c7c6b3",
   "metadata": {},
   "outputs": [
    {
     "data": {
      "image/png": "[encoded data removed]",
      "text/plain": [
       "<Figure size 432x288 with 1 Axes>"
      ]
     },
     "metadata": {
      "needs_background": "light"
     },
     "output_type": "display_data"
    }
   ],
   "source": [
    "import numpy as np\n",
    "import matplotlib.pyplot as plt\n",
    "np.random.seed(100)\n",
    "x = np.linspace(-10, 10, 40).reshape(40, 1)\n",
    "y = (0.1 * x ** 3 - 0.3 * x ** 2 + 0.3 * x + 0.4 + np.random.randn(40, 1) * 5)\n",
    "plt.scatter(x,y)\n",
    "plt.show()"
   ]
  },
  {
   "cell_type": "markdown",
   "id": "4268a851",
   "metadata": {},
   "source": [
    "Here is what the basic x-y graph looks like, based on the previous equation, now we need to expand the input features.\n"
   ]
  },
  {
   "cell_type": "code",
   "execution_count": 2,
   "id": "f2dd67b3",
   "metadata": {},
   "outputs": [
    {
     "name": "stdout",
     "output_type": "stream",
     "text": [
      "0\n",
      "1\n"
     ]
    },
    {
     "data": {
      "text/plain": [
       "array([[-1.00000000e+03,  1.00000000e+02, -1.00000000e+01],\n",
       "       [-8.53908528e+02,  9.00065746e+01, -9.48717949e+00],\n",
       "       [-7.22786965e+02,  8.05391190e+01, -8.97435897e+00],\n",
       "       [-6.05826127e+02,  7.15976331e+01, -8.46153846e+00],\n",
       "       [-5.02216828e+02,  6.31821170e+01, -7.94871795e+00],\n",
       "       [-4.11149885e+02,  5.52925707e+01, -7.43589744e+00],\n",
       "       [-3.31816113e+02,  4.79289941e+01, -6.92307692e+00],\n",
       "       [-2.63406328e+02,  4.10913872e+01, -6.41025641e+00],\n",
       "       [-2.05111347e+02,  3.47797502e+01, -5.89743590e+00],\n",
       "       [-1.56121985e+02,  2.89940828e+01, -5.38461538e+00],\n",
       "       [-1.15629056e+02,  2.37343853e+01, -4.87179487e+00],\n",
       "       [-8.28233787e+01,  1.90006575e+01, -4.35897436e+00],\n",
       "       [-5.68957670e+01,  1.47928994e+01, -3.84615385e+00],\n",
       "       [-3.70370370e+01,  1.11111111e+01, -3.33333333e+00],\n",
       "       [-2.24380047e+01,  7.95529257e+00, -2.82051282e+00],\n",
       "       [-1.22894857e+01,  5.32544379e+00, -2.30769231e+00],\n",
       "       [-5.78229572e+00,  3.22156476e+00, -1.79487179e+00],\n",
       "       [-2.10725063e+00,  1.64365549e+00, -1.28205128e+00],\n",
       "       [-4.55166136e-01,  5.91715976e-01, -7.69230769e-01],\n",
       "       [-1.68580050e-02,  6.57462196e-02, -2.56410256e-01],\n",
       "       [ 1.68580050e-02,  6.57462196e-02,  2.56410256e-01],\n",
       "       [ 4.55166136e-01,  5.91715976e-01,  7.69230769e-01],\n",
       "       [ 2.10725063e+00,  1.64365549e+00,  1.28205128e+00],\n",
       "       [ 5.78229572e+00,  3.22156476e+00,  1.79487179e+00],\n",
       "       [ 1.22894857e+01,  5.32544379e+00,  2.30769231e+00],\n",
       "       [ 2.24380047e+01,  7.95529257e+00,  2.82051282e+00],\n",
       "       [ 3.70370370e+01,  1.11111111e+01,  3.33333333e+00],\n",
       "       [ 5.68957670e+01,  1.47928994e+01,  3.84615385e+00],\n",
       "       [ 8.28233787e+01,  1.90006575e+01,  4.35897436e+00],\n",
       "       [ 1.15629056e+02,  2.37343853e+01,  4.87179487e+00],\n",
       "       [ 1.56121985e+02,  2.89940828e+01,  5.38461538e+00],\n",
       "       [ 2.05111347e+02,  3.47797502e+01,  5.89743590e+00],\n",
       "       [ 2.63406328e+02,  4.10913872e+01,  6.41025641e+00],\n",
       "       [ 3.31816113e+02,  4.79289941e+01,  6.92307692e+00],\n",
       "       [ 4.11149885e+02,  5.52925707e+01,  7.43589744e+00],\n",
       "       [ 5.02216828e+02,  6.31821170e+01,  7.94871795e+00],\n",
       "       [ 6.05826127e+02,  7.15976331e+01,  8.46153846e+00],\n",
       "       [ 7.22786965e+02,  8.05391190e+01,  8.97435897e+00],\n",
       "       [ 8.53908528e+02,  9.00065746e+01,  9.48717949e+00],\n",
       "       [ 1.00000000e+03,  1.00000000e+02,  1.00000000e+01]])"
      ]
     },
     "execution_count": 2,
     "metadata": {},
     "output_type": "execute_result"
    }
   ],
   "source": [
    "## get the number of samples in x\n",
    "m=len(x)\n",
    "## the highest order of the polynomial function\n",
    "n=3\n",
    "\n",
    "X=x**3\n",
    "for i in range(n-1):\n",
    "    print(i)\n",
    "    X = np.hstack((X, x ** (n - i-1)))\n",
    "X"
   ]
  },
  {
   "cell_type": "markdown",
   "id": "81f347e1",
   "metadata": {},
   "source": [
    "Now we have a input feature Matrix with order of 40 x 3, but remember that we have to insert a column of 1 s:\n"
   ]
  },
  {
   "cell_type": "code",
   "execution_count": 3,
   "id": "dc89125b",
   "metadata": {},
   "outputs": [
    {
     "data": {
      "text/plain": [
       "(40, 4)"
      ]
     },
     "execution_count": 3,
     "metadata": {},
     "output_type": "execute_result"
    }
   ],
   "source": [
    "X = np.hstack((X, np.ones((m, 1))))\n",
    "X.shape"
   ]
  },
  {
   "cell_type": "markdown",
   "id": "0d7f4088",
   "metadata": {},
   "source": [
    "Now we need to initialize the weight matrix based on the size of the current X\n"
   ]
  },
  {
   "cell_type": "code",
   "execution_count": 4,
   "id": "e8b6afc0",
   "metadata": {},
   "outputs": [
    {
     "data": {
      "text/plain": [
       "array([[-0.54443916],\n",
       "       [-0.66817174],\n",
       "       [ 0.00731456],\n",
       "       [-0.61293874]])"
      ]
     },
     "execution_count": 4,
     "metadata": {},
     "output_type": "execute_result"
    }
   ],
   "source": [
    "weight=np.random.randn(X.shape[1],1)\n",
    "weight_old=weight\n",
    "weight"
   ]
  },
  {
   "cell_type": "markdown",
   "id": "e6857b36",
   "metadata": {},
   "source": [
    "Then we need to start to iterate the weight to fit the model. We set the Maximum iteration step is 1000. Remember the equation:\n",
    "$$\\hat{y}=Xw$$, where,$$X=\\begin{bmatrix}1 & x^{(1)}&(x^{(1)})^{2} & (x^{(1)})^{3}\\\\1 & x^{(2)}&(x^{(2)})^{2}&(x^{(2)})^{3} \\\\ \\vdots \\\\1 & x^{(40)}&(x^{(40)})^{2}&(x^{40})^{3}\\end{bmatrix}$$ and $$W=\\begin{bmatrix} w_{1} \\\\ w_{2} \\\\ w_{3} \\\\ w_{4}\\\\ \\end{bmatrix}$$\n"
   ]
  },
  {
   "cell_type": "markdown",
   "id": "c6045577",
   "metadata": {},
   "source": [
    "The gradient can be expressed as:\n",
    "$$gradient=\\frac{1}{m}[X^{T}(Xw-Y)]=\\frac{1}{m}[X^{T}(\\hat{y}-Y)]$$"
   ]
  },
  {
   "cell_type": "code",
   "execution_count": 7,
   "id": "696fd6f3",
   "metadata": {},
   "outputs": [
    {
     "name": "stdout",
     "output_type": "stream",
     "text": [
      "[[ 0.09747796]\n",
      " [-0.3046255 ]\n",
      " [ 0.34122201]\n",
      " [-0.37383578]]\n"
     ]
    },
    {
     "data": {
      "image/png": "[encoded data removed]",
      "text/plain": [
       "<Figure size 432x288 with 1 Axes>"
      ]
     },
     "metadata": {
      "needs_background": "light"
     },
     "output_type": "display_data"
    }
   ],
   "source": [
    "loopmax=1000\n",
    "alpha=0.05\n",
    "loss=[]\n",
    "threshold=1e-7\n",
    "for i in range(1000):\n",
    "    y_hat=X.dot(weight)\n",
    "    alpha=alpha*0.96\n",
    "    gradient = X.T.dot(y_hat - y) / m\n",
    "    weight = weight - 1 / np.sqrt((gradient ** 2).mean()) * gradient * alpha\n",
    "    loss.append(((y_hat - y) ** 2).mean())\n",
    "    new_J=(1/(2*m))*(y_hat-y)**2\n",
    "    if np.abs(weight - weight_old).all() <= threshold:\n",
    "            break\n",
    "    else:\n",
    "            weight_old = weight\n",
    "w=weight\n",
    "print(weight)\n",
    "fitting_y=X.dot(weight)\n",
    "_w=[]\n",
    "for i in range(len(w)):\n",
    "     _w.append(round(float(w.item(i)), 5))\n",
    "title = 'y = '\n",
    "w = list(map(str, _w))\n",
    "for i in range(len(w)):\n",
    "    if i != 0 and float(w[i]) > 0:\n",
    "        w[i] = '+' + w[i]\n",
    "for i in range(len(w) - 2):\n",
    "        title = title + w[i] + '$x^{}$'.format(len(w) - i - 1)\n",
    "        title = title + w[-2] + '$x$'\n",
    "        title = title + w[-1]\n",
    "plt.plot(x,y, '+', label='original data')\n",
    "plt.plot(x,fitting_y, 'r-', lw=2, label='Polynomial Curve Fitting')\n",
    "plt.grid(alpha=0.5)\n",
    "plt.title(title,fontdict={'fontsize': 14})\n",
    "plt.legend()\n",
    "plt.show()"
   ]
  },
  {
   "cell_type": "markdown",
   "id": "c0a7b74c",
   "metadata": {},
   "source": []
  },
  {
   "cell_type": "code",
   "execution_count": null,
   "id": "4dbddaed",
   "metadata": {},
   "outputs": [],
   "source": []
  }
 ],
 "metadata": {
  "kernelspec": {
   "display_name": "Python 3 (ipykernel)",
   "language": "python",
   "name": "python3"
  },
  "language_info": {
   "codemirror_mode": {
    "name": "ipython",
    "version": 3
   },
   "file_extension": ".py",
   "mimetype": "text/x-python",
   "name": "python",
   "nbconvert_exporter": "python",
   "pygments_lexer": "ipython3",
   "version": "3.9.12"
  }
 },
 "nbformat": 4,
 "nbformat_minor": 5
}
