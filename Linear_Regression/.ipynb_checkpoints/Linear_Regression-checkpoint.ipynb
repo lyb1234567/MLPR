{
 "cells": [
  {
   "cell_type": "markdown",
   "id": "79ffa849",
   "metadata": {},
   "source": [
    "# Linear Regression\n",
    "\n",
    "## Affine function\n",
    "An affine function (also called a linear function1) of a vector x takes a weighted sum of each\n",
    "input and adds a constant. For example, for D=3 inputs x = [x1 x2 x3],a general (scalar)affine function is:\n",
    "    $$f(x;w,b)=w_{1}x_{1}+w_{2}x_{2}+w_{3}x_{3}+b=w^{T}x+b$$\n",
    "where **w** is the weights, which can be used to represent the effect brought by the input features, which are represented by **x** in this equation, and the **b** is the bias( or offset), which can be used to ensure the performance of a model.\n",
    "\n",
    "## Least Square Error function\n",
    "The least square error function is a very classic model, which is widely used in the filed of regression.The model can be expressed simply as:\n",
    "$$L(w,b)=(y-f(w,b))^{2}$$,where $f(w,b)$ is the line we create to try to fitt the data points. The general function can be expressed as:\n",
    "$$\\sum_{n=1}^{N}[(y^{(n)}-f(x^{(n)};w,b))]^{2}=(y-f)^{T}(y-f)=L(w)$$, where **N** is the number of samples.The least-squares fitting problem is finding the parameters that minimize this error.\n",
    "**Fitting line with b=0**\n",
    "<br>\n",
    "To make the math simpler,we will temporarily assume our function goes through the origin.That is, we’ll assume b = 0. Thus we are fitting the “linear map”:\n",
    "$$y\\approx f=Xw$$, so we need to find **w** to minmize the least squre error mentioned above. We want to find the corresponding **w** to make the loss function least, since it is a qudratic function, we simply find its derivative:\n",
    "$$L(w)=(Xw-Y)^{T}(Xw-Y)=(w^{T}X^{T}-Y^{T})(Xw-Y)=w^{T}X^{T}Xw-2Yw^{T}X^{T}+Y^{T}Y \\text{ (1)}$$\n",
    "$$\\frac{\\partial L}{\\partial w}=2X^{T}Xw-2X^{T}Y=0 \\text{ (2)}$$\n",
    "$$w=(X^{T}X)^{-1}X^{T}Y \\text{ (3)}$$\n",
    "\n",
    "**Gradient Descent**\n",
    "Since we already got the derivative, we can use the gradient descent.\n",
    "$$gradient=\\frac{1}{m}[X^{T}(Xw-Y)]=\\frac{1}{m}[X^{T}(\\hat{y}-Y)]$$\n",
    "In **numpy** we can use **np.linalg.lstsq()** function.\n",
    "\n",
    "**np.linalg.lstsq()**\n",
    "<br>\n",
    "Let's say we have a **1x4** array of input features **X**:\n"
   ]
  },
  {
   "cell_type": "code",
   "execution_count": 1,
   "id": "abef8776",
   "metadata": {},
   "outputs": [
    {
     "data": {
      "text/plain": [
       "array([0, 1, 2, 3])"
      ]
     },
     "execution_count": 1,
     "metadata": {},
     "output_type": "execute_result"
    }
   ],
   "source": [
    "import numpy as np\n",
    "x = np.array([0, 1, 2, 3])\n",
    "x"
   ]
  },
  {
   "cell_type": "markdown",
   "id": "e23ad97f",
   "metadata": {},
   "source": [
    "And we have crresponding output **Y**:"
   ]
  },
  {
   "cell_type": "code",
   "execution_count": 7,
   "id": "78cd9625",
   "metadata": {},
   "outputs": [
    {
     "data": {
      "text/plain": [
       "array([-1. ,  0.2,  0.9,  2.1])"
      ]
     },
     "execution_count": 7,
     "metadata": {},
     "output_type": "execute_result"
    }
   ],
   "source": [
    "\n",
    "y = np.array([-1, 0.2, 0.9, 2.1])\n",
    "y"
   ]
  },
  {
   "cell_type": "markdown",
   "id": "5fe9e87a",
   "metadata": {},
   "source": [
    "We Assume that **Y** is a linear function, which can be expressed as:\n",
    "$$y=kx+b$$\n",
    "Imagine, for one type of feature(for example, area for determine the price of an apartment):$$X=[\\text{x1 x2 x3 x4}]$$\n",
    "And output Y::$$Y=[\\text{y1 y2 y3 y4}]$$\n",
    "To fit put both of them into the linear function,we can put x into a column vector and we also add a column of 1 to the colmun vector:\n",
    "$$ X=\\begin{bmatrix}x_{1}&1\\\\ x_{2}&1\\\\x_{3}&1\\\\x_{4}&1\\end{bmatrix}$$\n",
    "We define **C** as regression coefficient:$$C=\\begin{bmatrix}w \\\\ k\\end{bmatrix}$$\n",
    "Thus, we can multiply **X by C**:\n",
    "$$Y=XC=\\begin{bmatrix}wx_{1}+k \\\\ wx_{2}+k \\\\ wx_{3}+k \\\\ wx_{4}+k \\end{bmatrix}$$\n",
    "we can use **np.vstack** or **np.concatenate()** to achieve that"
   ]
  },
  {
   "cell_type": "code",
   "execution_count": 28,
   "id": "3e5552b6",
   "metadata": {},
   "outputs": [
    {
     "data": {
      "text/plain": [
       "array([[0., 1., 2., 3.],\n",
       "       [1., 1., 1., 1.]])"
      ]
     },
     "execution_count": 28,
     "metadata": {},
     "output_type": "execute_result"
    }
   ],
   "source": [
    "A = np.vstack([x, np.ones(len(x))])\n",
    "A"
   ]
  },
  {
   "cell_type": "markdown",
   "id": "229fe811",
   "metadata": {},
   "source": [
    "Then we can use **np.linalg.lstsq()** to find the regression coefficients:\n"
   ]
  },
  {
   "cell_type": "code",
   "execution_count": 10,
   "id": "2f8ba51c",
   "metadata": {},
   "outputs": [
    {
     "data": {
      "text/plain": [
       "[0.9999999999999997, -0.949999999999999]"
      ]
     },
     "execution_count": 10,
     "metadata": {},
     "output_type": "execute_result"
    }
   ],
   "source": [
    "[k,b]=np.linalg.lstsq(A,y,rcond=None)[0]\n",
    "[k,b]"
   ]
  },
  {
   "cell_type": "markdown",
   "id": "ab1e27a1",
   "metadata": {},
   "source": [
    "To prove the coefficients do make the line fit into those points, we can visualize them:\n"
   ]
  },
  {
   "cell_type": "code",
   "execution_count": 13,
   "id": "94653b71",
   "metadata": {},
   "outputs": [
    {
     "data": {
      "image/png": "[encoded data removed]",
      "text/plain": [
       "<Figure size 432x288 with 1 Axes>"
      ]
     },
     "metadata": {
      "needs_background": "light"
     },
     "output_type": "display_data"
    }
   ],
   "source": [
    "import matplotlib.pyplot as plt\n",
    "fitting=[]\n",
    "for i in range(len(x)):\n",
    "    fitting.append(x.item(i)*k+b)\n",
    "plt.scatter(x,y,color = 'hotpink',label=\"scatter\")\n",
    "plt.plot(x,fitting,label='fitting line')\n",
    "plt.legend()\n",
    "plt.show()"
   ]
  },
  {
   "cell_type": "markdown",
   "id": "46f40727",
   "metadata": {},
   "source": [
    "**Fitting more general functions**\n",
    "For the above sections, we only think about the single input feature.Well, in the real life, for a established target(for example, the house price), there are so many factors which can affect it(area,environment,height).So, we can think of the input features as a **NxD** matrix:\n",
    "$$X=\\begin{bmatrix}x^{(1)}_{1}&x^{(1)}_{2}\\dots x^{(1)}_{D} \\\\x^{(2)}_{1}&x^{(2)}_{2}\\dots x^{(2)}_{D}\\\\x^{(3)}_{1}&x^{(3)}_{2}\\dots x^{(3)}_{D}\\\\ \\vdots & & \\\\ x^{(N)}_{1} & x^{(N)}_{2} \\dots x^{(N)}_{D}\\end{bmatrix}$$\n",
    "\n",
    "where for each row, there will be one type of feature $x^{(n)}$, still to put them into a linear function, we can still add an extra column of ones to this matrix:\n",
    "$$X=\\begin{bmatrix}x^{(1)}_{1}&x^{(1)}_{2}\\dots x^{(1)}_{D}&1\\\\x^{(2)}_{1}&x^{(2)}_{2}\\dots x^{(2)}_{D}& 1\\\\x^{(3)}_{1}&x^{(3)}_{2}\\dots x^{(3)}_{D} &1 \\\\ \\vdots & & \\\\ x^{(N)}_{1} & x^{(N)}_{2} \\dots x^{(N)}_{D}&1\\end{bmatrix}$$\n",
    "\n"
   ]
  },
  {
   "cell_type": "markdown",
   "id": "184ef720",
   "metadata": {},
   "source": [
    "**Polynomials**\n",
    "We can also use linear regression to fit the polynomials. Let's say we take random values for each row of **X**:\n",
    "$$\\phi=\\begin{bmatrix}1 & x^{(1)}&(x^{(1)})^{2}\\dots (x^{(1)})^{K-1}\\\\1 & x^{(2)}&(x^{(2)})^{2}\\dots (x^{(2)})^{K-1} \\\\ \\vdots \\\\1 & x^{(N)}&(x^{(N)})^{2}\\dots (x^{(N)})^{K-1}\\end{bmatrix}$$.\n",
    "And we have the weights matrix:\n",
    "$$W=\\begin{bmatrix}w^{(1)}\\\\w^{(2)}\\\\w^{(3)}\\\\ \\vdots \\\\w_{k} \\end{bmatrix}$$.\n",
    "Then using $\\phi$ as our design matrix, we can the fit the model:$$Y \\approx f=w^{T}\\phi(x)=w_{1}+w_{2}x+w_{3}x^{2}+w_{4}x^{3}+\\dots+w_{k}x^{k-1}$$ and this equation is for each type of input feature。"
   ]
  },
  {
   "cell_type": "markdown",
   "id": "d078967c",
   "metadata": {},
   "source": [
    "**Multiple Linear Regression**\n"
   ]
  },
  {
   "cell_type": "code",
   "execution_count": 31,
   "id": "7553421c",
   "metadata": {},
   "outputs": [],
   "source": [
    "import random\n",
    "import numpy as np\n",
    "import pandas as pd\n",
    "random.seed(88)\n",
    "data_x = pd.DataFrame(\n",
    "        {\"a\": random.sample(range(100), 10), \"b\": random.sample(range(100), 10), \"c\": random.sample(range(100), 10)})\n",
    "data_y = pd.Series(random.sample(range(200), 10))\n",
    "data_y.name = \"y\""
   ]
  },
  {
   "cell_type": "markdown",
   "id": "6321ef3b",
   "metadata": {},
   "source": [
    "**Input features**\n",
    "<br>\n",
    "As we can see here, we have three different types of features for input"
   ]
  },
  {
   "cell_type": "code",
   "execution_count": 30,
   "id": "5338a978",
   "metadata": {},
   "outputs": [
    {
     "data": {
      "text/html": [
       "<div>\n",
       "<style scoped>\n",
       "    .dataframe tbody tr th:only-of-type {\n",
       "        vertical-align: middle;\n",
       "    }\n",
       "\n",
       "    .dataframe tbody tr th {\n",
       "        vertical-align: top;\n",
       "    }\n",
       "\n",
       "    .dataframe thead th {\n",
       "        text-align: right;\n",
       "    }\n",
       "</style>\n",
       "<table border=\"1\" class=\"dataframe\">\n",
       "  <thead>\n",
       "    <tr style=\"text-align: right;\">\n",
       "      <th></th>\n",
       "      <th>a</th>\n",
       "      <th>b</th>\n",
       "      <th>c</th>\n",
       "    </tr>\n",
       "  </thead>\n",
       "  <tbody>\n",
       "    <tr>\n",
       "      <th>0</th>\n",
       "      <td>50</td>\n",
       "      <td>87</td>\n",
       "      <td>41</td>\n",
       "    </tr>\n",
       "    <tr>\n",
       "      <th>1</th>\n",
       "      <td>24</td>\n",
       "      <td>59</td>\n",
       "      <td>85</td>\n",
       "    </tr>\n",
       "    <tr>\n",
       "      <th>2</th>\n",
       "      <td>42</td>\n",
       "      <td>17</td>\n",
       "      <td>55</td>\n",
       "    </tr>\n",
       "    <tr>\n",
       "      <th>3</th>\n",
       "      <td>23</td>\n",
       "      <td>28</td>\n",
       "      <td>17</td>\n",
       "    </tr>\n",
       "    <tr>\n",
       "      <th>4</th>\n",
       "      <td>80</td>\n",
       "      <td>15</td>\n",
       "      <td>39</td>\n",
       "    </tr>\n",
       "    <tr>\n",
       "      <th>5</th>\n",
       "      <td>1</td>\n",
       "      <td>88</td>\n",
       "      <td>20</td>\n",
       "    </tr>\n",
       "    <tr>\n",
       "      <th>6</th>\n",
       "      <td>67</td>\n",
       "      <td>77</td>\n",
       "      <td>15</td>\n",
       "    </tr>\n",
       "    <tr>\n",
       "      <th>7</th>\n",
       "      <td>98</td>\n",
       "      <td>22</td>\n",
       "      <td>59</td>\n",
       "    </tr>\n",
       "    <tr>\n",
       "      <th>8</th>\n",
       "      <td>89</td>\n",
       "      <td>56</td>\n",
       "      <td>43</td>\n",
       "    </tr>\n",
       "    <tr>\n",
       "      <th>9</th>\n",
       "      <td>43</td>\n",
       "      <td>52</td>\n",
       "      <td>7</td>\n",
       "    </tr>\n",
       "  </tbody>\n",
       "</table>\n",
       "</div>"
      ],
      "text/plain": [
       "    a   b   c\n",
       "0  50  87  41\n",
       "1  24  59  85\n",
       "2  42  17  55\n",
       "3  23  28  17\n",
       "4  80  15  39\n",
       "5   1  88  20\n",
       "6  67  77  15\n",
       "7  98  22  59\n",
       "8  89  56  43\n",
       "9  43  52   7"
      ]
     },
     "execution_count": 30,
     "metadata": {},
     "output_type": "execute_result"
    }
   ],
   "source": [
    "data_x"
   ]
  },
  {
   "cell_type": "markdown",
   "id": "42172455",
   "metadata": {},
   "source": [
    "**Target Output**"
   ]
  },
  {
   "cell_type": "code",
   "execution_count": 5,
   "id": "e02c94d7",
   "metadata": {},
   "outputs": [
    {
     "data": {
      "text/plain": [
       "0     39\n",
       "1     63\n",
       "2    113\n",
       "3     50\n",
       "4     56\n",
       "5     45\n",
       "6      3\n",
       "7     60\n",
       "8    165\n",
       "9    134\n",
       "Name: y, dtype: int64"
      ]
     },
     "execution_count": 5,
     "metadata": {},
     "output_type": "execute_result"
    }
   ],
   "source": [
    "data_y"
   ]
  },
  {
   "cell_type": "markdown",
   "id": "7d9642a2",
   "metadata": {},
   "source": [
    "**Using np.linalg.lstsq()**\n",
    "<br>\n",
    "The first one is the **regression coefficient**, the second one is the **squared error for the residual sum**, the third one is the\n",
    "rank of a matrix, and the fourth one is the **singluar value**.In this case, we only care about the coefficient."
   ]
  },
  {
   "cell_type": "code",
   "execution_count": 8,
   "id": "cdd57cea",
   "metadata": {},
   "outputs": [
    {
     "data": {
      "text/plain": [
       "array([0.652101  , 0.27331666, 0.52302062])"
      ]
     },
     "execution_count": 8,
     "metadata": {},
     "output_type": "execute_result"
    }
   ],
   "source": [
    "res=np.linalg.lstsq(data_x,data_y,rcond=None)\n",
    "res[0]"
   ]
  },
  {
   "cell_type": "markdown",
   "id": "579e0d14",
   "metadata": {},
   "source": [
    "**Fitting**"
   ]
  },
  {
   "cell_type": "markdown",
   "id": "e6f2e6d0",
   "metadata": {},
   "source": [
    "Now we can try to multiply the weights by the input features.\n"
   ]
  },
  {
   "cell_type": "code",
   "execution_count": 23,
   "id": "7d7fd383",
   "metadata": {},
   "outputs": [
    {
     "data": {
      "text/plain": [
       "array([ 77.82744443,  76.23285964,  60.80075928,  31.54253987,\n",
       "        76.6656338 ,  35.16437921,  72.58145856, 100.77708079,\n",
       "        95.83260815,  45.91395328])"
      ]
     },
     "execution_count": 23,
     "metadata": {},
     "output_type": "execute_result"
    }
   ],
   "source": [
    "fitting=np.matmul(data_x,res[0].T)\n",
    "fitting.values"
   ]
  },
  {
   "cell_type": "markdown",
   "id": "301224cb",
   "metadata": {},
   "source": [
    "**Plotting**\n"
   ]
  },
  {
   "cell_type": "code",
   "execution_count": 26,
   "id": "8d79fcdc",
   "metadata": {},
   "outputs": [
    {
     "data": {
      "image/png": "[encoded data removed]",
      "text/plain": [
       "<Figure size 432x288 with 1 Axes>"
      ]
     },
     "metadata": {
      "needs_background": "light"
     },
     "output_type": "display_data"
    }
   ],
   "source": [
    "import matplotlib.pyplot as plt\n",
    "lst=[i for i in range(10)]\n",
    "plt.scatter(lst,data_y.values,color='green',label='scatter')\n",
    "plt.plot(lst,fitting.values,label='fitting model')\n",
    "plt.legend()\n",
    "plt.show()"
   ]
  },
  {
   "cell_type": "markdown",
   "id": "a99c695a",
   "metadata": {},
   "source": [
    "## Radcial Basis Function\n",
    "\n",
    "One possible choices for basis fnction $\\phi_{k}$ is a Radial Basis Function:\n",
    "$$\\phi_{k}=exp(-(x-c)^{T}(x-c)/h^{2})$$"
   ]
  },
  {
   "cell_type": "code",
   "execution_count": 2,
   "id": "106f6829",
   "metadata": {},
   "outputs": [
    {
     "data": {
      "image/png": "[encoded data removed]",
      "text/plain": [
       "<Figure size 432x288 with 1 Axes>"
      ]
     },
     "metadata": {
      "needs_background": "light"
     },
     "output_type": "display_data"
    }
   ],
   "source": [
    "import numpy as np\n",
    "import matplotlib.pyplot as plt\n",
    "\n",
    "def rbf_1d(xx, cc, hh):\n",
    "    return np.exp(-(xx-cc)**2 / hh**2)\n",
    "plt.clf()\n",
    "grid_size = 0.01\n",
    "x_grid = np.arange(-10, 10, grid_size)\n",
    "plt.plot(x_grid, rbf_1d(x_grid, cc=5, hh=1), '-b')\n",
    "plt.plot(x_grid, rbf_1d(x_grid, cc=-2, hh=2), '-r')\n",
    "plt.show()"
   ]
  },
  {
   "cell_type": "markdown",
   "id": "d7da21fa",
   "metadata": {},
   "source": [
    "## Regularization\n"
   ]
  }
 ],
 "metadata": {
  "kernelspec": {
   "display_name": "Python 3 (ipykernel)",
   "language": "python",
   "name": "python3"
  },
  "language_info": {
   "codemirror_mode": {
    "name": "ipython",
    "version": 3
   },
   "file_extension": ".py",
   "mimetype": "text/x-python",
   "name": "python",
   "nbconvert_exporter": "python",
   "pygments_lexer": "ipython3",
   "version": "3.9.12"
  }
 },
 "nbformat": 4,
 "nbformat_minor": 5
}
