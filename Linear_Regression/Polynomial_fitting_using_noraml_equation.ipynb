{
 "cells": [
  {
   "cell_type": "markdown",
   "id": "185f004a",
   "metadata": {},
   "source": [
    "## Least Square Error Function\n",
    "The least square error function is a very classic model, which is widely used in the filed of regression.The model can be expressed simply as:\n",
    "$$L(w,b)=(y-f(w,b))^{2}$$,where $f(w,b)$ is the line we create to try to fitt the data points. The general function can be expressed as:\n",
    "$$\\sum_{n=1}^{N}[(y^{(n)}-f(x^{(n)};w,b))]^{2}=(y-f)^{T}(y-f)=L(w)$$, where **N** is the number of samples.The least-squares fitting problem is finding the parameters that minimize this error.\n",
    "**Fitting line with b=0**\n",
    "<br>\n",
    "To make the math simpler,we will temporarily assume our function goes through the origin.That is, we’ll assume b = 0. Thus we are fitting the “linear map”:\n",
    "$$y\\approx f=Xw$$, so we need to find **w** to minmize the least squre error mentioned above. We want to find the corresponding **w** to make the loss function least, since it is a qudratic function, we simply find its derivative:\n",
    "$$L(w)=(Xw-Y)^{T}(Xw-Y)=(w^{T}X^{T}-Y^{T})(Xw-Y)=w^{T}X^{T}Xw-2Yw^{T}X^{T}+Y^{T}Y \\text{ (1)}$$\n",
    "$$\\frac{\\partial L}{\\partial w}=2X^{T}Xw-2X^{T}Y=0 \\text{ (2)}$$\n",
    "$$w=(X^{T}X)^{-1}X^{T}Y \\text{ (3)}$$\n",
    "So we just use the noral equation to solve **w**\n",
    "\n"
   ]
  },
  {
   "cell_type": "markdown",
   "id": "f3748839",
   "metadata": {},
   "source": [
    "We first set the input features and target output\n"
   ]
  },
  {
   "cell_type": "code",
   "execution_count": 10,
   "id": "4275e4b6",
   "metadata": {},
   "outputs": [],
   "source": [
    "import numpy as np\n",
    "import matplotlib.pyplot as plt\n",
    "x = np.linspace(-10, 10, 40).reshape(40, 1)\n",
    "y = (-0.1 * x ** 3 - 0.2 * x ** 2 + 0.3 * x + 0.4 + np.random.randn(40, 1) * 5)"
   ]
  },
  {
   "cell_type": "markdown",
   "id": "13c4f2ab",
   "metadata": {},
   "source": [
    "Then we set the highest number of order of the traget polynomial function"
   ]
  },
  {
   "cell_type": "code",
   "execution_count": 11,
   "id": "a6e6c981",
   "metadata": {},
   "outputs": [],
   "source": [
    "n=3\n",
    "m=len(x)\n",
    "_x = x.reshape(m, 1)\n",
    "_y = y.reshape(m, 1)\n",
    "\n"
   ]
  },
  {
   "cell_type": "markdown",
   "id": "f6de35a7",
   "metadata": {},
   "source": [
    "Then, we need to expand the feature matrix to model the polynomial function"
   ]
  },
  {
   "cell_type": "code",
   "execution_count": 12,
   "id": "b4bb6ea2",
   "metadata": {},
   "outputs": [
    {
     "data": {
      "text/plain": [
       "array([[-1.00000000e+03],\n",
       "       [-8.53908528e+02],\n",
       "       [-7.22786965e+02],\n",
       "       [-6.05826127e+02],\n",
       "       [-5.02216828e+02],\n",
       "       [-4.11149885e+02],\n",
       "       [-3.31816113e+02],\n",
       "       [-2.63406328e+02],\n",
       "       [-2.05111347e+02],\n",
       "       [-1.56121985e+02],\n",
       "       [-1.15629056e+02],\n",
       "       [-8.28233787e+01],\n",
       "       [-5.68957670e+01],\n",
       "       [-3.70370370e+01],\n",
       "       [-2.24380047e+01],\n",
       "       [-1.22894857e+01],\n",
       "       [-5.78229572e+00],\n",
       "       [-2.10725063e+00],\n",
       "       [-4.55166136e-01],\n",
       "       [-1.68580050e-02],\n",
       "       [ 1.68580050e-02],\n",
       "       [ 4.55166136e-01],\n",
       "       [ 2.10725063e+00],\n",
       "       [ 5.78229572e+00],\n",
       "       [ 1.22894857e+01],\n",
       "       [ 2.24380047e+01],\n",
       "       [ 3.70370370e+01],\n",
       "       [ 5.68957670e+01],\n",
       "       [ 8.28233787e+01],\n",
       "       [ 1.15629056e+02],\n",
       "       [ 1.56121985e+02],\n",
       "       [ 2.05111347e+02],\n",
       "       [ 2.63406328e+02],\n",
       "       [ 3.31816113e+02],\n",
       "       [ 4.11149885e+02],\n",
       "       [ 5.02216828e+02],\n",
       "       [ 6.05826127e+02],\n",
       "       [ 7.22786965e+02],\n",
       "       [ 8.53908528e+02],\n",
       "       [ 1.00000000e+03]])"
      ]
     },
     "execution_count": 12,
     "metadata": {},
     "output_type": "execute_result"
    }
   ],
   "source": [
    "X=_x**n\n",
    "X"
   ]
  },
  {
   "cell_type": "markdown",
   "id": "e2f6766c",
   "metadata": {},
   "source": [
    "Then we add the other two oders of the polynomial function"
   ]
  },
  {
   "cell_type": "code",
   "execution_count": 5,
   "id": "9d287de5",
   "metadata": {},
   "outputs": [
    {
     "data": {
      "text/plain": [
       "(40, 4)"
      ]
     },
     "execution_count": 5,
     "metadata": {},
     "output_type": "execute_result"
    }
   ],
   "source": [
    "for i in range(n-1):\n",
    "    X=np.hstack((X,_x**(n-i-1)))\n",
    "X = np.hstack((X, np.ones((m, 1))))\n",
    "X.shape"
   ]
  },
  {
   "cell_type": "markdown",
   "id": "3db60da1",
   "metadata": {},
   "source": [
    "Now we have input features Matrix:\n",
    "$$X=\\begin{bmatrix}x^{(1)}&(x^{(1)})^{2} & (x^{(1)})^{3} & 1 \\\\  x^{(2)}&(x^{(2)})^{2}&(x^{(2)})^{3} & 1\\\\ \\vdots \\\\ x^{(40)}&(x^{(40)})^{2}&(x^{40})^{3} & 1\\end{bmatrix}$$, and $$W=\\begin{bmatrix} w_{1} \\\\ w_{2} \\\\ w_{3} \\\\ w_{4}\\\\ \\end{bmatrix}$$\n",
    "\n",
    "Then we can use the numpy functions directly based on the equation directly:\n",
    "$$w=(X^{T}X)^{-1}X^{T}Y$$\n"
   ]
  },
  {
   "cell_type": "code",
   "execution_count": 6,
   "id": "7937ba1e",
   "metadata": {},
   "outputs": [],
   "source": [
    "w = np.linalg.inv(X.T.dot(X)).dot(X.T).dot(_y)\n",
    "fitting_y = X.dot(w)\n"
   ]
  },
  {
   "cell_type": "markdown",
   "id": "179ab959",
   "metadata": {},
   "source": [
    "Then we plot the original data and fitting line "
   ]
  },
  {
   "cell_type": "code",
   "execution_count": 9,
   "id": "bfe77441",
   "metadata": {},
   "outputs": [
    {
     "name": "stdout",
     "output_type": "stream",
     "text": [
      "['-0.10044', '-0.19686', '+0.46721', '+0.29679']\n"
     ]
    },
    {
     "ename": "AttributeError",
     "evalue": "'list' object has no attribute 'item'",
     "output_type": "error",
     "traceback": [
      "\u001b[1;31m---------------------------------------------------------------------------\u001b[0m",
      "\u001b[1;31mAttributeError\u001b[0m                            Traceback (most recent call last)",
      "Input \u001b[1;32mIn [9]\u001b[0m, in \u001b[0;36m<cell line: 3>\u001b[1;34m()\u001b[0m\n\u001b[0;32m      2\u001b[0m \u001b[38;5;28mprint\u001b[39m(w)\n\u001b[0;32m      3\u001b[0m \u001b[38;5;28;01mfor\u001b[39;00m i \u001b[38;5;129;01min\u001b[39;00m \u001b[38;5;28mrange\u001b[39m(\u001b[38;5;28mlen\u001b[39m(w)):\n\u001b[1;32m----> 4\u001b[0m             _w\u001b[38;5;241m.\u001b[39mappend(\u001b[38;5;28mround\u001b[39m(\u001b[38;5;28mfloat\u001b[39m(\u001b[43mw\u001b[49m\u001b[38;5;241;43m.\u001b[39;49m\u001b[43mitem\u001b[49m(i)), \u001b[38;5;241m5\u001b[39m))\n\u001b[0;32m      5\u001b[0m title \u001b[38;5;241m=\u001b[39m \u001b[38;5;124m'\u001b[39m\u001b[38;5;124my = \u001b[39m\u001b[38;5;124m'\u001b[39m\n\u001b[0;32m      6\u001b[0m w \u001b[38;5;241m=\u001b[39m \u001b[38;5;28mlist\u001b[39m(\u001b[38;5;28mmap\u001b[39m(\u001b[38;5;28mstr\u001b[39m, _w))\n",
      "\u001b[1;31mAttributeError\u001b[0m: 'list' object has no attribute 'item'"
     ]
    }
   ],
   "source": [
    "\n",
    "_w = []\n",
    "for i in range(len(w)):\n",
    "            _w.append(round(float(w.item(i)), 5))\n",
    "title = 'y = '\n",
    "w = list(map(str, _w))\n",
    "for i in range(len(w)):\n",
    "    if i != 0 and float(w[i]) > 0:\n",
    "        w[i] = '+' + w[i]\n",
    "for i in range(len(w) - 2):\n",
    "    title = title + w[i] + '$x^{}$'.format(len(w) - i - 1)\n",
    "    title = title + w[-2] + '$x$'\n",
    "    title = title + w[-1]\n",
    "print(title)\n",
    "plt.figure(figsize=(8, 6))\n",
    "plt.plot(self.x, self.y, '+', label='original data')\n",
    "plt.plot(self.x, self.y_hat, 'r-', lw=2, label='Polynomial Curve Fitting')\n",
    "plt.legend(fontsize=12)\n",
    "plt.show()"
   ]
  },
  {
   "cell_type": "code",
   "execution_count": null,
   "id": "b125e5ce",
   "metadata": {},
   "outputs": [],
   "source": []
  }
 ],
 "metadata": {
  "kernelspec": {
   "display_name": "Python 3 (ipykernel)",
   "language": "python",
   "name": "python3"
  },
  "language_info": {
   "codemirror_mode": {
    "name": "ipython",
    "version": 3
   },
   "file_extension": ".py",
   "mimetype": "text/x-python",
   "name": "python",
   "nbconvert_exporter": "python",
   "pygments_lexer": "ipython3",
   "version": "3.9.12"
  }
 },
 "nbformat": 4,
 "nbformat_minor": 5
}
