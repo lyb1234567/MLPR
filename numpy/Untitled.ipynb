{
 "cells": [
  {
   "cell_type": "markdown",
   "id": "79ffa849",
   "metadata": {},
   "source": [
    "# Linear Regression\n",
    "\n",
    "## Affine function\n",
    "An affine function (also called a linear function1) of a vector x takes a weighted sum of each\n",
    "input and adds a constant. For example, for D=3 inputs x = [x1 x2 x3],a general (scalar)affine function is:\n",
    "    $$f(x;w,b)=w_{1}x_{1}+w_{2}x_{2}+w_{3}x_{3}+b=w^{T}x+b$$\n",
    "where **w** is the weights, which can be used to represent the effect brought by the input features, which are represented by **x** in this equation, and the **b** is the bias( or offset), which can be used to ensure the performance of a model.\n",
    "\n",
    "## Least Square Error function\n",
    "The least square error function is a very classic model, which is widely used in the filed of regression.The model can be expressed simply as:\n",
    "$$L(w,b)=(y-f(w,b))^{2}$$,where $f(w,b)$ is the line we create to try to fitt the data points. The general function can be expressed as:\n",
    "$$\\sum_{n=1}^{N}[(y^{(n)}-f(x^{(n)};w,b))]=(y-f)^{T}(y-f)$$, where **N** is the number of samples.The least-squares fitting problem is finding the parameters that minimize this error.\n",
    "\n",
    "**Fitting line with b=0**\n",
    "<br>\n",
    "To make the math simpler,we will temporarily assume our function goes through the origin.That is, we’ll assume b = 0. Thus we are fitting the “linear map”:\n",
    "$$y\\approx f=Xw$$, so we need to find **w** to minmize the least squre error mentioned above. In **numpy** we can use **np.linalg.lstsq()** function.\n",
    "\n",
    "**np.linalg.lstsq()**\n",
    "<br>\n",
    "Let's say we have a **1x4** array of input features **X**:\n"
   ]
  },
  {
   "cell_type": "code",
   "execution_count": 3,
   "id": "abef8776",
   "metadata": {},
   "outputs": [
    {
     "data": {
      "text/plain": [
       "array([0, 1, 2, 3])"
      ]
     },
     "execution_count": 3,
     "metadata": {},
     "output_type": "execute_result"
    }
   ],
   "source": [
    "import numpy as np\n",
    "x = np.array([0, 1, 2, 3])\n",
    "x"
   ]
  },
  {
   "cell_type": "markdown",
   "id": "e23ad97f",
   "metadata": {},
   "source": [
    "And we have crresponding output **Y**:"
   ]
  },
  {
   "cell_type": "code",
   "execution_count": 7,
   "id": "78cd9625",
   "metadata": {},
   "outputs": [
    {
     "data": {
      "text/plain": [
       "array([-1. ,  0.2,  0.9,  2.1])"
      ]
     },
     "execution_count": 7,
     "metadata": {},
     "output_type": "execute_result"
    }
   ],
   "source": [
    "\n",
    "y = np.array([-1, 0.2, 0.9, 2.1])\n",
    "y"
   ]
  },
  {
   "cell_type": "markdown",
   "id": "5fe9e87a",
   "metadata": {},
   "source": [
    "We Assume that **Y** is a linear function, which can be expressed as:\n",
    "$$y=kx+b$$\n",
    "Imagine, for one type of feature(for example, area for determine the price of an apartment):$$X=[\\text{x1 x2 x3 x4}]$$\n",
    "And output Y::$$Y=[\\text{y1 y2 y3 y4}]$$\n",
    "To fit put both of them into the linear function,we can put x into a column vector and we also add a column of 1 to the colmun vector:\n",
    "$$ X=\\begin{bmatrix}x_{1}&1\\\\ x_{2}&1\\\\x_{3}&1\\\\x_{4}&1\\end{bmatrix}$$\n",
    "We define **C** as regression coefficient:$$C=\\begin{bmatrix}w \\\\ k\\end{bmatrix}$$\n",
    "Thus, we can multiply **X by C**:\n",
    "$$Y=XC=\\begin{bmatrix}wx_{1}+k \\\\ wx_{2}+k \\\\ wx_{3}+k \\\\ wx_{4}+k \\end{bmatrix}$$\n",
    "we can use **np.vstack** or **np.concatenate()** to achieve that"
   ]
  },
  {
   "cell_type": "code",
   "execution_count": 28,
   "id": "3e5552b6",
   "metadata": {},
   "outputs": [
    {
     "data": {
      "text/plain": [
       "array([[0., 1., 2., 3.],\n",
       "       [1., 1., 1., 1.]])"
      ]
     },
     "execution_count": 28,
     "metadata": {},
     "output_type": "execute_result"
    }
   ],
   "source": [
    "A = np.vstack([x, np.ones(len(x))])\n",
    "A"
   ]
  },
  {
   "cell_type": "markdown",
   "id": "229fe811",
   "metadata": {},
   "source": [
    "Then we can use **np.linalg.lstsq()** to find the regression coefficients:\n"
   ]
  },
  {
   "cell_type": "code",
   "execution_count": 10,
   "id": "2f8ba51c",
   "metadata": {},
   "outputs": [
    {
     "data": {
      "text/plain": [
       "[0.9999999999999997, -0.949999999999999]"
      ]
     },
     "execution_count": 10,
     "metadata": {},
     "output_type": "execute_result"
    }
   ],
   "source": [
    "[k,b]=np.linalg.lstsq(A,y,rcond=None)[0]\n",
    "[k,b]"
   ]
  },
  {
   "cell_type": "markdown",
   "id": "ab1e27a1",
   "metadata": {},
   "source": [
    "To prove the coefficients do make the line fit into those points, we can visualize them:\n"
   ]
  },
  {
   "cell_type": "code",
   "execution_count": 13,
   "id": "94653b71",
   "metadata": {},
   "outputs": [
    {
     "data": {
      "image/png": "[encoded data removed]",
      "text/plain": [
       "<Figure size 432x288 with 1 Axes>"
      ]
     },
     "metadata": {
      "needs_background": "light"
     },
     "output_type": "display_data"
    }
   ],
   "source": [
    "import matplotlib.pyplot as plt\n",
    "fitting=[]\n",
    "for i in range(len(x)):\n",
    "    fitting.append(x.item(i)*k+b)\n",
    "plt.scatter(x,y,color = 'hotpink',label=\"scatter\")\n",
    "plt.plot(x,fitting,label='fitting line')\n",
    "plt.legend()\n",
    "plt.show()"
   ]
  },
  {
   "cell_type": "code",
   "execution_count": null,
   "id": "7c0b2845",
   "metadata": {},
   "outputs": [],
   "source": [
    "**Fitting more general functions**\n"
   ]
  }
 ],
 "metadata": {
  "kernelspec": {
   "display_name": "Python 3 (ipykernel)",
   "language": "python",
   "name": "python3"
  },
  "language_info": {
   "codemirror_mode": {
    "name": "ipython",
    "version": 3
   },
   "file_extension": ".py",
   "mimetype": "text/x-python",
   "name": "python",
   "nbconvert_exporter": "python",
   "pygments_lexer": "ipython3",
   "version": "3.9.12"
  }
 },
 "nbformat": 4,
 "nbformat_minor": 5
}
