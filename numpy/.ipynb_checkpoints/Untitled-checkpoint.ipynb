{
 "cells": [
  {
   "cell_type": "markdown",
   "id": "b602cb22",
   "metadata": {},
   "source": [
    "# Linear Regression\n",
    "\n",
    "## Affine function\n",
    "An affine function (also called a linear function1) of a vector x takes a weighted sum of each\n",
    "input and adds a constant. For example, for D=3 inputs x = [x1 x2 x3],a general (scalar)affine function is:\n",
    "    $$f(x;w,b)=w_{1}x_{1}+w_{2}x_{2}+w_{3}x_{3}+b=w^{T}x+b$$\n",
    "where **w** is the weights, which can be used to represent the effect brought by the input features, which are represented by **x** in this equation, and the **b** is the bias( or offset), which can be used to ensure the performance of a model.\n",
    "\n",
    "## Least Square Error function\n",
    "The least square error function is a very classic model, which is widely used in the filed of regression.The model can be expressed simply as:\n",
    "$$L(w,b)=(y-f(w,b))^{2}$$,where $f(w,b)$ is the line we create to try to fitt the data points. The general function can be expressed as:\n",
    "$$\\sum_{n=1}^{N}[(y^{(n)}-f(x^{(n)};w,b))]=(y-f)^{T}(y-f)$$, where **N** is the number of samples.The least-squares fitting problem is finding the parameters that minimize this error.\n",
    "\n",
    "**Fitting line with b=0**\n",
    "To make the math simpler,we will temporarily assume our function goes through the origin.That is, we’ll assume b = 0. Thus we are fitting the “linear map”:\n",
    "$$y\\approx f=Xw$$, so we need to find **w** to minmize the least squre error mentioned above. In **numpy** we can use **np.linalg.lstsq()** function.\n",
    "\n",
    "**np.linalg.lstsq()**\n",
    "Let's say we have a **1x4** array of input features **X**:\n"
   ]
  },
  {
   "cell_type": "code",
   "execution_count": 3,
   "id": "20bcdd5b",
   "metadata": {},
   "outputs": [
    {
     "data": {
      "text/plain": [
       "array([0, 1, 2, 3])"
      ]
     },
     "execution_count": 3,
     "metadata": {},
     "output_type": "execute_result"
    }
   ],
   "source": [
    "import numpy as np\n",
    "x = np.array([0, 1, 2, 3])\n",
    "x"
   ]
  },
  {
   "cell_type": "markdown",
   "id": "8cac29f7",
   "metadata": {},
   "source": [
    "And we have crresponding output **Y**:"
   ]
  },
  {
   "cell_type": "code",
   "execution_count": 7,
   "id": "e8b9aafa",
   "metadata": {},
   "outputs": [
    {
     "data": {
      "text/plain": [
       "array([-1. ,  0.2,  0.9,  2.1])"
      ]
     },
     "execution_count": 7,
     "metadata": {},
     "output_type": "execute_result"
    }
   ],
   "source": [
    "\n",
    "y = np.array([-1, 0.2, 0.9, 2.1])\n",
    "y"
   ]
  }
 ],
 "metadata": {
  "kernelspec": {
   "display_name": "Python 3 (ipykernel)",
   "language": "python",
   "name": "python3"
  },
  "language_info": {
   "codemirror_mode": {
    "name": "ipython",
    "version": 3
   },
   "file_extension": ".py",
   "mimetype": "text/x-python",
   "name": "python",
   "nbconvert_exporter": "python",
   "pygments_lexer": "ipython3",
   "version": "3.9.12"
  }
 },
 "nbformat": 4,
 "nbformat_minor": 5
}
